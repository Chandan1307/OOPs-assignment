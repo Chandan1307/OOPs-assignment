{
 "cells": [
  {
   "cell_type": "markdown",
   "id": "6d92fb22-62bb-4f7f-8f97-628afea0452c",
   "metadata": {},
   "source": [
    "Q1. Which function is used to open a file? What are the different modes of opening a file? Explain each mode\n",
    "of file opening."
   ]
  },
  {
   "cell_type": "markdown",
   "id": "8e3c6dd6-7053-4737-8350-f96d9960989d",
   "metadata": {},
   "source": [
    "file_object = open(filename, mode):\n",
    "    file_object.close()\n",
    "&\n",
    "with open(filename, mode) as file_object:\n",
    "    file_object.close()"
   ]
  },
  {
   "cell_type": "markdown",
   "id": "a1adbc73-cffa-41d3-abfd-420118add76c",
   "metadata": {},
   "source": [
    "'''\n",
    "'r': read mode, which is used for reading the contents of a file. The file must exist before it can be opened in read mode, otherwise an error will occur.\n",
    "'w': write mode, which is used for writing data to a file. If the file does not exist, a new file will be created. If the file already exists, its contents will be overwritten.\n",
    "'a': append mode, which is used for adding new data to the end of an existing file. If the file does not exist, a new file will be created.\n",
    "'x': exclusive creation mode, which is used for creating a new file. If the file already exists, an error will occur.\n",
    "'b': binary mode, which is used for reading and writing binary data, such as images or audio files.\n",
    "'t': text mode, which is used for reading and writing text data, such as strings or characters. This is the default mode.\n",
    "'''"
   ]
  },
  {
   "cell_type": "markdown",
   "id": "79bf3f8c-9449-4b16-be8d-dee9ae67a044",
   "metadata": {},
   "source": [
    "Q2. Why close() function is used? Why is it important to close a file?"
   ]
  },
  {
   "cell_type": "markdown",
   "id": "e3fd8b7f-4419-406a-9266-a514f13d28f5",
   "metadata": {},
   "source": [
    "Answer:\n",
    "f.close() function its use because print statement not insert in text file.\n",
    "Example:\n",
    "f = open(\"test.txt\", \"w\")\n",
    "f.write(\"this is my file open\")\n",
    "f.close()"
   ]
  },
  {
   "cell_type": "markdown",
   "id": "4bc6d0d6-5613-47b3-a015-4939911fbb8f",
   "metadata": {},
   "source": [
    "Q3. Write a python program to create a text file. Write ‘I want to become a Data Scientist’ in that file. Then\n",
    "close the file. Open this file and read the content of the file."
   ]
  },
  {
   "cell_type": "code",
   "execution_count": 1,
   "id": "cb9f7357-9aa3-454f-a9e2-988b62256763",
   "metadata": {},
   "outputs": [],
   "source": [
    "f = open(\"Data.txt\",\"w\")\n",
    "f.write(\"I want to become a Data Scientist\")\n",
    "f.close()"
   ]
  },
  {
   "cell_type": "code",
   "execution_count": 2,
   "id": "39375575-2e19-4a96-8c70-5a3fd5ec3f47",
   "metadata": {},
   "outputs": [
    {
     "data": {
      "text/plain": [
       "'I want to become a Data Scientist'"
      ]
     },
     "execution_count": 2,
     "metadata": {},
     "output_type": "execute_result"
    }
   ],
   "source": [
    "f = open(\"Data.txt\", \"r\")\n",
    "f.read()"
   ]
  },
  {
   "cell_type": "markdown",
   "id": "7b4c75fe-f23c-4d34-9f34-9c7c2226f57a",
   "metadata": {},
   "source": [
    "Q4. Explain the following with python code: read(), readline() and readlines()."
   ]
  },
  {
   "cell_type": "code",
   "execution_count": 5,
   "id": "29bc0cb8-4f46-4361-a519-c066e1155f1d",
   "metadata": {},
   "outputs": [
    {
     "data": {
      "text/plain": [
       "'I want to become a Data Scientist'"
      ]
     },
     "execution_count": 5,
     "metadata": {},
     "output_type": "execute_result"
    }
   ],
   "source": [
    "f = open(\"Data.txt\", \"r\")\n",
    "f.read()"
   ]
  },
  {
   "cell_type": "code",
   "execution_count": 6,
   "id": "90d318c6-dfdb-413b-8477-0a5835cfa0ea",
   "metadata": {},
   "outputs": [
    {
     "data": {
      "text/plain": [
       "'I want to become a Data Scientist'"
      ]
     },
     "execution_count": 6,
     "metadata": {},
     "output_type": "execute_result"
    }
   ],
   "source": [
    "f = open(\"Data.txt\", \"r\")\n",
    "f.readline()"
   ]
  },
  {
   "cell_type": "code",
   "execution_count": 7,
   "id": "aa13f70d-e7e0-4f06-90f4-d4d53166a473",
   "metadata": {},
   "outputs": [
    {
     "data": {
      "text/plain": [
       "['I want to become a Data Scientist']"
      ]
     },
     "execution_count": 7,
     "metadata": {},
     "output_type": "execute_result"
    }
   ],
   "source": [
    "f = open(\"Data.txt\", \"r\")\n",
    "f.readlines()"
   ]
  },
  {
   "cell_type": "markdown",
   "id": "29c0e471-a8fc-4ee0-86be-45c401a6a272",
   "metadata": {},
   "source": [
    "Q5. Explain why with statement is used with open(). What is the advantage of using with statement and\n",
    "open() together?"
   ]
  },
  {
   "cell_type": "markdown",
   "id": "0b333d63-da18-4eec-9313-628bf25c7777",
   "metadata": {},
   "source": [
    "The with statement is used in Python to ensure that a resource is properly managed and automatically cleaned up when the block of code is exited. This applies to many resources, including files opened using the built-in open() function.\n",
    "\n",
    "When we use the with statement with the open() function, it automatically handles opening and closing the file. It ensures that the file is properly closed after we're done using it, even if an exception is raised within the block of code.\n"
   ]
  },
  {
   "cell_type": "markdown",
   "id": "52f96e2e-739c-4ee9-a158-2592d4cb415d",
   "metadata": {},
   "source": [
    "Example:-\n",
    "with open('file.txt', 'r') as f:\n",
    "    data = f.read()\n",
    "    print(data)"
   ]
  },
  {
   "cell_type": "markdown",
   "id": "11437f9d-4d9c-416d-b731-d85aeea43e71",
   "metadata": {},
   "source": [
    "Q6. Explain the write() and writelines() functions. Give a suitable example."
   ]
  },
  {
   "cell_type": "markdown",
   "id": "773ba26b-7a26-4b4b-aa0d-62ea24e6b28a",
   "metadata": {},
   "source": [
    "write() function: This function is used to write a string to a file. It returns the number of characters written to the file. If the file does not exist, it will be created."
   ]
  },
  {
   "cell_type": "code",
   "execution_count": 9,
   "id": "0e482879-5a61-4758-8b89-1c534fec9c61",
   "metadata": {},
   "outputs": [],
   "source": [
    "f = open(\"Data1.txt\",\"w\")\n",
    "f.write(\"I want to become a Data Scientist\")\n",
    "f.close()"
   ]
  },
  {
   "cell_type": "markdown",
   "id": "f3840dff-ccf3-4eca-9c37-18f2b9d2b0c8",
   "metadata": {},
   "source": [
    "writelines() function: This function is used to write a list of strings to a file. Each string in the list corresponds to a single line in the file. It returns the number of characters written to the file. If the file does not exist, it will be created."
   ]
  },
  {
   "cell_type": "code",
   "execution_count": 10,
   "id": "1b637a5f-f22a-4f43-8345-3809576cb7a5",
   "metadata": {},
   "outputs": [],
   "source": [
    "f = open(\"Data.txt\",\"w\")\n",
    "f.writelines(\"I want to become a Data Scientist\")\n",
    "f.close()"
   ]
  },
  {
   "cell_type": "code",
   "execution_count": null,
   "id": "fbc9df9d-e557-4198-96a0-86bf365c8846",
   "metadata": {},
   "outputs": [],
   "source": []
  }
 ],
 "metadata": {
  "kernelspec": {
   "display_name": "Python 3 (ipykernel)",
   "language": "python",
   "name": "python3"
  },
  "language_info": {
   "codemirror_mode": {
    "name": "ipython",
    "version": 3
   },
   "file_extension": ".py",
   "mimetype": "text/x-python",
   "name": "python",
   "nbconvert_exporter": "python",
   "pygments_lexer": "ipython3",
   "version": "3.10.8"
  }
 },
 "nbformat": 4,
 "nbformat_minor": 5
}
